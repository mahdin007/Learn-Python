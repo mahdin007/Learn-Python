{
  "nbformat": 4,
  "nbformat_minor": 0,
  "metadata": {
    "colab": {
      "name": "Practise1.ipynb",
      "provenance": [],
      "collapsed_sections": [],
      "authorship_tag": "ABX9TyMO/LujkA9JaPqFpHONwIoH",
      "include_colab_link": true
    },
    "kernelspec": {
      "name": "python3",
      "display_name": "Python 3"
    },
    "language_info": {
      "name": "python"
    }
  },
  "cells": [
    {
      "cell_type": "markdown",
      "metadata": {
        "id": "view-in-github",
        "colab_type": "text"
      },
      "source": [
        "<a href=\"https://colab.research.google.com/github/mahdin007/Learn-Python/blob/main/Practise1.ipynb\" target=\"_parent\"><img src=\"https://colab.research.google.com/assets/colab-badge.svg\" alt=\"Open In Colab\"/></a>"
      ]
    },
    {
      "cell_type": "code",
      "source": [
        "Location = \"No.2 gate\"\n",
        "print(Location)"
      ],
      "metadata": {
        "colab": {
          "base_uri": "https://localhost:8080/"
        },
        "id": "CZI1RjqIKCVc",
        "outputId": "f3cf68d8-d3a5-420b-e945-20d73fb29e1d"
      },
      "execution_count": null,
      "outputs": [
        {
          "output_type": "stream",
          "name": "stdout",
          "text": [
            "No.2 gate\n"
          ]
        }
      ]
    },
    {
      "cell_type": "code",
      "source": [
        "Location = \"No.2 gate\"\n",
        "# print(Location)\n",
        "\n",
        "# assigning a new value to Location\n",
        "Location = \"Oxygen\"\n",
        "\n",
        "print(Location)"
      ],
      "metadata": {
        "colab": {
          "base_uri": "https://localhost:8080/"
        },
        "id": "2ZvJyeOYLYiz",
        "outputId": "de76d01b-b9e6-4502-d0b8-2f60c87240f0"
      },
      "execution_count": null,
      "outputs": [
        {
          "output_type": "stream",
          "name": "stdout",
          "text": [
            "Oxygen\n"
          ]
        }
      ]
    },
    {
      "cell_type": "code",
      "source": [
        "a = 6\n",
        "b = 9\n",
        "c = \"sixnine\"\n",
        "\n",
        "print(a)\n",
        "print(b)\n",
        "print(c)"
      ],
      "metadata": {
        "colab": {
          "base_uri": "https://localhost:8080/"
        },
        "id": "LPe079UMMPoi",
        "outputId": "9d844ca2-7e10-477e-fdf2-aafdc6490059"
      },
      "execution_count": null,
      "outputs": [
        {
          "output_type": "stream",
          "name": "stdout",
          "text": [
            "6\n",
            "9\n",
            "sixnine\n"
          ]
        }
      ]
    },
    {
      "cell_type": "code",
      "source": [
        "a, b, c = 6, 9, \"sixnine\"\n",
        "\n",
        "print(a)\n",
        "print(b)\n",
        "print(c)"
      ],
      "metadata": {
        "colab": {
          "base_uri": "https://localhost:8080/"
        },
        "id": "e_W9Wy-TMwfi",
        "outputId": "207ce522-76ae-4b34-9cf8-858a318f5378"
      },
      "execution_count": null,
      "outputs": [
        {
          "output_type": "stream",
          "name": "stdout",
          "text": [
            "6\n",
            "9\n",
            "sixnine\n"
          ]
        }
      ]
    },
    {
      "cell_type": "code",
      "source": [
        "a = b = c = \"Same\"\n",
        "\n",
        "print(a)\n",
        "print(b)\n",
        "print(c)"
      ],
      "metadata": {
        "colab": {
          "base_uri": "https://localhost:8080/"
        },
        "id": "PTmlTn_fNSBa",
        "outputId": "83e4db59-40ef-492e-e644-ad473e36f73d"
      },
      "execution_count": null,
      "outputs": [
        {
          "output_type": "stream",
          "name": "stdout",
          "text": [
            "Same\n",
            "Same\n",
            "Same\n"
          ]
        }
      ]
    },
    {
      "cell_type": "code",
      "source": [
        "x = (1 == True)\n",
        "y = (1 == False)\n",
        "\n",
        "print(\"x is\", x)\n",
        "print(\"y is\", y)\n"
      ],
      "metadata": {
        "colab": {
          "base_uri": "https://localhost:8080/"
        },
        "id": "1urkdUV_NlR2",
        "outputId": "33e7c00c-b456-42eb-b983-314a4e804511"
      },
      "execution_count": null,
      "outputs": [
        {
          "output_type": "stream",
          "name": "stdout",
          "text": [
            "x is True\n",
            "y is False\n"
          ]
        }
      ]
    },
    {
      "cell_type": "code",
      "source": [
        "a = True + 4\n",
        "b = False + 10\n",
        "\n",
        "print(\"a =\", a, \"> yes\")\n",
        "print(\"b =\", b, \"> no\")\n"
      ],
      "metadata": {
        "colab": {
          "base_uri": "https://localhost:8080/"
        },
        "id": "PPpbROKcPi3E",
        "outputId": "d020d9bf-01c1-4bfe-d193-b27525ec0b27"
      },
      "execution_count": null,
      "outputs": [
        {
          "output_type": "stream",
          "name": "stdout",
          "text": [
            "a = 5 > yes\n",
            "b = 10 > no\n"
          ]
        }
      ]
    },
    {
      "cell_type": "code",
      "source": [
        "c = \"something \"\n",
        "d = \"again.\"\n",
        "\n",
        "print(\"Answer =\", c+d)"
      ],
      "metadata": {
        "colab": {
          "base_uri": "https://localhost:8080/"
        },
        "id": "_PyQVOsjP-cb",
        "outputId": "b1916a62-12f4-43d1-fe55-7bf46162eec1"
      },
      "execution_count": null,
      "outputs": [
        {
          "output_type": "stream",
          "name": "stdout",
          "text": [
            "Answer = something again.\n"
          ]
        }
      ]
    },
    {
      "cell_type": "code",
      "source": [
        "cycle = \"Available\"\n",
        "car = \"Not avai\"\n",
        "\n",
        "def menu(x):\n",
        "    if x == cycle:\n",
        "        print(\"The cycle is\", cycle)\n",
        "    else:\n",
        "        print(\"The car is\", car)\n",
        "\n",
        "menu(cycle) \n",
        "menu(car)       \n"
      ],
      "metadata": {
        "colab": {
          "base_uri": "https://localhost:8080/"
        },
        "id": "BnkIbD23RgVz",
        "outputId": "30a469e0-07db-454b-d686-03a0ac741db3"
      },
      "execution_count": null,
      "outputs": [
        {
          "output_type": "stream",
          "name": "stdout",
          "text": [
            "The cycle is Available\n",
            "The car is None\n"
          ]
        }
      ]
    },
    {
      "cell_type": "code",
      "source": [
        "food = [\"Burger\", \"Pizza\", \"Curry\"] #list\n",
        "number = (7, 8, 9) #tuple\n",
        "alphabet = {'a' : 'air', 'b' : 'bold', 'c' : 'car'}  #dictionary\n",
        "\n",
        "print(\"The foods are =\", food)\n",
        "print(\"The numbers are =\", number)\n",
        "print(\"The alphabets are =\", alphabet)\n",
        "\n"
      ],
      "metadata": {
        "id": "oHJr_G6DVbrj"
      },
      "execution_count": null,
      "outputs": []
    },
    {
      "cell_type": "code",
      "source": [
        ""
      ],
      "metadata": {
        "id": "eBJ8s11aWj7X"
      },
      "execution_count": null,
      "outputs": []
    }
  ]
}